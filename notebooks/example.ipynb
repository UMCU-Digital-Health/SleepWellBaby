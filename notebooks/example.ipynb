{
 "cells": [
  {
   "cell_type": "markdown",
   "id": "640a85c5",
   "metadata": {},
   "source": [
    "# Example\n",
    "This notebook illustrates how the sleepwellbaby package can be used to get sleep state predictions using mock data."
   ]
  },
  {
   "cell_type": "code",
   "execution_count": null,
   "id": "b92618c1",
   "metadata": {},
   "outputs": [],
   "source": [
    "%load_ext autoreload\n",
    "%autoreload 2\n",
    "import pandas as pd\n",
    "from tqdm import tqdm\n",
    "\n",
    "from sleepwellbaby.data import (\n",
    "    compute_reference_values,\n",
    "    convert_to_payload,\n",
    "    generate_mock_signalbase_data,\n",
    ")\n",
    "from sleepwellbaby.model import get_prediction, load_model\n"
   ]
  },
  {
   "cell_type": "markdown",
   "id": "1a974b15",
   "metadata": {},
   "source": [
    "## Prepare data\n",
    "Generate some mock data (same format as SignalBase with 1Hz)"
   ]
  },
  {
   "cell_type": "code",
   "execution_count": null,
   "id": "a8bd72f1",
   "metadata": {},
   "outputs": [],
   "source": [
    "df = generate_mock_signalbase_data().sort_values(by='datetime').set_index('datetime')"
   ]
  },
  {
   "cell_type": "markdown",
   "id": "8d42445e",
   "metadata": {},
   "source": [
    "Compute reference values using rolling windows"
   ]
  },
  {
   "cell_type": "code",
   "execution_count": null,
   "id": "bdc22124",
   "metadata": {},
   "outputs": [],
   "source": [
    "df = compute_reference_values(df, freq=1)"
   ]
  },
  {
   "cell_type": "markdown",
   "id": "e13f8dda",
   "metadata": {},
   "source": [
    "## Get predictions \n",
    "We make a prediction every one minute in the below example"
   ]
  },
  {
   "cell_type": "code",
   "execution_count": null,
   "id": "0c56f2e9",
   "metadata": {},
   "outputs": [],
   "source": [
    "# Get indices of times at which you want to get an SWB value (we only compute it at whole minutes)\n",
    "t_range_swb = pd.date_range(start=df.index.min().round(freq='min'), end=df.index.max().round(freq='min'), freq='1min')"
   ]
  },
  {
   "cell_type": "code",
   "execution_count": null,
   "id": "78907952",
   "metadata": {},
   "outputs": [],
   "source": [
    "# Helper function to get predictions\n",
    "def get_SWB(df, indices):\n",
    "    model, model_support_dict = load_model()\n",
    "    ref_columns = [c for c in df.columns if ('mean' in c) or ('std' in c)]\n",
    "    for ix, t in enumerate(tqdm(indices, desc=\"Calculating SWB\")):\n",
    "        # Get the right timestamps for SWB, one every 2.5 seconds\n",
    "        # For 1Hz data we round so we do not have to interpolate\n",
    "        timestamps = pd.date_range(t - pd.Timedelta(8, 'm'), t, freq='2500ms', inclusive='right').round('1s')\n",
    "        temp = df.reindex(index=timestamps)  # sets rows with missing indices to nan\n",
    "        row = temp.iloc[-1]\n",
    "        assert row.name == t\n",
    "\n",
    "        # Check if reference values are defined\n",
    "        if row[ref_columns].isna().any():\n",
    "            pred = 'ineligible'\n",
    "            proba_dict = {'AS': -1, 'QS': -1, 'W': -1}\n",
    "        else:\n",
    "            payload = convert_to_payload(temp, birth_date='2000-01-01')\n",
    "            pred, proba_dict = get_prediction(payload, model, model_support_dict)\n",
    "        columns =list(proba_dict.keys())\n",
    "        if ix == 0:\n",
    "            df.loc[:, 'prediction'] = None\n",
    "            df.loc[:, columns] = None\n",
    "        df.loc[t, 'prediction'] = pred\n",
    "        df.loc[t, columns] = pd.DataFrame(proba_dict, index=[0,]).iloc[0]\n",
    "    return df, columns"
   ]
  },
  {
   "cell_type": "markdown",
   "id": "56e5e315",
   "metadata": {},
   "source": [
    "Return predictions (takes a couple of minutes for a single day with one prediction every minute)"
   ]
  },
  {
   "cell_type": "code",
   "execution_count": null,
   "id": "10f5731a",
   "metadata": {},
   "outputs": [],
   "source": [
    "df, columns = get_SWB(df, t_range_swb)"
   ]
  },
  {
   "cell_type": "markdown",
   "id": "4f5c12d1",
   "metadata": {},
   "source": [
    "Drop rows without a prediction"
   ]
  },
  {
   "cell_type": "code",
   "execution_count": null,
   "id": "2eea40e5",
   "metadata": {},
   "outputs": [],
   "source": [
    "df.dropna(subset='prediction', inplace=True)"
   ]
  },
  {
   "cell_type": "code",
   "execution_count": null,
   "id": "6de838a5",
   "metadata": {},
   "outputs": [],
   "source": [
    "df.tail(10)"
   ]
  },
  {
   "cell_type": "markdown",
   "id": "f1a3b752",
   "metadata": {},
   "source": [
    "#"
   ]
  }
 ],
 "metadata": {
  "kernelspec": {
   "display_name": "sleepwellbaby",
   "language": "python",
   "name": "python3"
  },
  "language_info": {
   "codemirror_mode": {
    "name": "ipython",
    "version": 3
   },
   "file_extension": ".py",
   "mimetype": "text/x-python",
   "name": "python",
   "nbconvert_exporter": "python",
   "pygments_lexer": "ipython3",
   "version": "3.8.20"
  }
 },
 "nbformat": 4,
 "nbformat_minor": 5
}
