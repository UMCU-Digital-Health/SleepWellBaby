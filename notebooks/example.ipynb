{
 "cells": [
  {
   "cell_type": "markdown",
   "id": "640a85c5",
   "metadata": {},
   "source": [
    "# Example\n",
    "This notebook illustrates how the sleepwellbaby package can be used to get sleep state predictions using mock data."
   ]
  },
  {
   "cell_type": "code",
   "execution_count": null,
   "id": "b92618c1",
   "metadata": {},
   "outputs": [],
   "source": [
    "%load_ext autoreload\n",
    "%autoreload 2\n",
    "import numpy as np\n",
    "import pandas as pd\n",
    "\n",
    "from sleepwellbaby.data import (\n",
    "    compute_reference_values,\n",
    "    generate_mock_signalbase_data,\n",
    ")\n",
    "from sleepwellbaby.explainability import dot_plot, get_shap_values\n",
    "from sleepwellbaby.model import load_model\n",
    "from sleepwellbaby.utils import get_swb_predictions\n",
    "\n"
   ]
  },
  {
   "cell_type": "markdown",
   "id": "1a974b15",
   "metadata": {},
   "source": [
    "## Prepare data\n",
    "Generate some mock data (same format as SignalBase with 1Hz). If you want to use 0.4Hz set `freq=2s500ms`."
   ]
  },
  {
   "cell_type": "code",
   "execution_count": null,
   "id": "a8bd72f1",
   "metadata": {},
   "outputs": [],
   "source": [
    "df = generate_mock_signalbase_data(freq='S').sort_values(by='datetime').set_index('datetime')"
   ]
  },
  {
   "cell_type": "markdown",
   "id": "8d42445e",
   "metadata": {},
   "source": [
    "Compute reference values using rolling windows"
   ]
  },
  {
   "cell_type": "code",
   "execution_count": null,
   "id": "bdc22124",
   "metadata": {},
   "outputs": [],
   "source": [
    "df = compute_reference_values(df, freq=1)"
   ]
  },
  {
   "cell_type": "markdown",
   "id": "e13f8dda",
   "metadata": {},
   "source": [
    "## Get predictions \n",
    "We make a prediction every one minute in the below example.\n",
    "\n",
    "*Note*: we start 8 minutes later than our dataframe otherwise we get a ValueError in `get_swb_predictions`."
   ]
  },
  {
   "cell_type": "code",
   "execution_count": null,
   "id": "0c56f2e9",
   "metadata": {},
   "outputs": [],
   "source": [
    "# Get indices of times at which you want to get an SWB value (we only compute it at whole minutes)\n",
    "t_range_swb = pd.date_range(\n",
    "    start=(df.index.min().round(freq='min') + pd.Timedelta(minutes=8)),\n",
    "    end=df.index.max().round(freq='min'),\n",
    "    freq='1min'\n",
    ")"
   ]
  },
  {
   "cell_type": "markdown",
   "id": "56e5e315",
   "metadata": {},
   "source": [
    "Return predictions (takes a couple of minutes for a single day with one prediction every minute, tsfresh limits the speed)."
   ]
  },
  {
   "cell_type": "code",
   "execution_count": null,
   "id": "10f5731a",
   "metadata": {},
   "outputs": [],
   "source": [
    "df, columns = get_swb_predictions(df, t_range_swb[-50:], birth_date=\"2000-01-01\", gestation_period=210, freq='S', return_features=True)"
   ]
  },
  {
   "cell_type": "markdown",
   "id": "4f5c12d1",
   "metadata": {},
   "source": [
    "Drop rows without a prediction"
   ]
  },
  {
   "cell_type": "code",
   "execution_count": null,
   "id": "2eea40e5",
   "metadata": {},
   "outputs": [],
   "source": [
    "df.dropna(subset='prediction', inplace=True)"
   ]
  },
  {
   "cell_type": "code",
   "execution_count": null,
   "id": "6de838a5",
   "metadata": {},
   "outputs": [],
   "source": [
    "df.tail(10)"
   ]
  },
  {
   "cell_type": "markdown",
   "id": "0ea0de1f",
   "metadata": {},
   "source": [
    "### Get shap values"
   ]
  },
  {
   "cell_type": "code",
   "execution_count": null,
   "id": "d6b3a494",
   "metadata": {},
   "outputs": [],
   "source": [
    "mask = df.loc[:,'prediction']!='ineligible'\n",
    "model, model_support_dict = load_model()\n",
    "X = df.loc[mask, model_support_dict['Xcol']].reset_index(drop=True)\n",
    "\n",
    "assert X.isna().any().sum() == 0\n",
    "assert (X.dtypes == np.float64).all()  # otherwise if, e.g. object, get all grey valuess\n",
    "\n",
    "shap_values = get_shap_values(model, X)"
   ]
  },
  {
   "cell_type": "code",
   "execution_count": null,
   "id": "ff533f4b",
   "metadata": {},
   "outputs": [],
   "source": [
    "figs = dot_plot(shap_values, X, model.classes_)"
   ]
  },
  {
   "cell_type": "code",
   "execution_count": null,
   "id": "89c48d69",
   "metadata": {},
   "outputs": [],
   "source": [
    "figs[0]"
   ]
  },
  {
   "cell_type": "code",
   "execution_count": null,
   "id": "d6a83d51",
   "metadata": {},
   "outputs": [],
   "source": [
    "figs[1]"
   ]
  },
  {
   "cell_type": "code",
   "execution_count": null,
   "id": "085953fc",
   "metadata": {},
   "outputs": [],
   "source": [
    "figs[2]"
   ]
  },
  {
   "cell_type": "markdown",
   "id": "f1a3b752",
   "metadata": {},
   "source": [
    "#"
   ]
  }
 ],
 "metadata": {
  "kernelspec": {
   "display_name": "sleepwellbaby",
   "language": "python",
   "name": "python3"
  },
  "language_info": {
   "codemirror_mode": {
    "name": "ipython",
    "version": 3
   },
   "file_extension": ".py",
   "mimetype": "text/x-python",
   "name": "python",
   "nbconvert_exporter": "python",
   "pygments_lexer": "ipython3",
   "version": "3.8.20"
  }
 },
 "nbformat": 4,
 "nbformat_minor": 5
}
